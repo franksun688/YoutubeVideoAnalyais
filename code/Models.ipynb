{
 "cells": [
  {
   "cell_type": "code",
   "execution_count": 1,
   "metadata": {},
   "outputs": [],
   "source": [
    "import pandas as pd\n",
    "import numpy as np\n",
    "from collections import Counter\n",
    "\n",
    "import statsmodels.api as sm\n",
    "import matplotlib.pyplot as plt\n",
    "from mpl_toolkits.mplot3d import Axes3D\n",
    "import scipy\n",
    "\n",
    "import scipy.stats\n",
    "import nltk\n",
    "from nltk.sentiment.vader import SentimentIntensityAnalyzer as SIA\n",
    "import seaborn as sns\n",
    "import glob"
   ]
  },
  {
   "cell_type": "code",
   "execution_count": 2,
   "metadata": {},
   "outputs": [],
   "source": [
    "from sklearn.preprocessing import scale\n",
    "from sklearn.preprocessing import StandardScaler\n",
    "from sklearn import model_selection\n",
    "from sklearn.decomposition import PCA\n",
    "from sklearn.linear_model import LinearRegression\n",
    "from sklearn.cross_decomposition import PLSRegression, PLSSVD\n",
    "from sklearn.metrics import mean_squared_error\n",
    "from sklearn.model_selection import train_test_split, KFold\n",
    "from sklearn.feature_extraction.text import CountVectorizer,TfidfVectorizer\n",
    "from sklearn.naive_bayes import MultinomialNB\n",
    "from sklearn import datasets\n",
    "from sklearn.cluster import KMeans\n",
    "from sklearn.metrics import silhouette_score"
   ]
  },
  {
   "cell_type": "code",
   "execution_count": 3,
   "metadata": {},
   "outputs": [],
   "source": [
    "import warnings\n",
    "warnings.filterwarnings('ignore')"
   ]
  },
  {
   "cell_type": "code",
   "execution_count": 4,
   "metadata": {},
   "outputs": [],
   "source": [
    "df = pd.read_csv('../data/video_clean.csv', index_col = 0)"
   ]
  },
  {
   "cell_type": "markdown",
   "metadata": {},
   "source": [
    "=====================================================================================================================\n",
    "# Question 1. How to predict the future views? \n",
    "\n",
    "## - Question Description: \n",
    "\n",
    "The major concern for Youtubers is the number of viewers. The more viewers the more attention, which means more profit gained from YouTube. In the matter of covering news or telling stories about Coronavirus, it is important to figure out what topics people do actually care about？\n",
    "\n",
    "## - Model: Linear Regression\n"
   ]
  },
  {
   "cell_type": "code",
   "execution_count": 5,
   "metadata": {},
   "outputs": [],
   "source": [
    "# Count the word frequencies in titles.\n",
    "\n",
    "words = []\n",
    "df['words'] = df.clean_text.copy()\n",
    "for i in range(df.shape[0]):\n",
    "    words = words + df.clean_text[i].split()\n",
    "    df.words[i] = df.clean_text[i].split()\n",
    "word_freq = Counter(words).most_common()\n",
    "#Create dummy variables for words with top 40 frequencies\n",
    "for k in range(40):\n",
    "    df[word_freq[k][0]] = df.clean_text.copy()\n",
    "\n",
    "for i in range(df.shape[0]):\n",
    "    for k in range(40):\n",
    "        if word_freq[k][0] in df['words'][i]: df[word_freq[k][0]][i] = 1\n",
    "        else: df[word_freq[k][0]][i] = 0"
   ]
  },
  {
   "cell_type": "markdown",
   "metadata": {},
   "source": [
    "### We first plot the histogram of the numbers of views."
   ]
  },
  {
   "cell_type": "code",
   "execution_count": 6,
   "metadata": {},
   "outputs": [
    {
     "data": {
      "text/plain": [
       "<a list of 41 Patch objects>"
      ]
     },
     "execution_count": 6,
     "metadata": {},
     "output_type": "execute_result"
    },
    {
     "data": {
      "image/png": "[encoded data removed]",
      "text/plain": [
       "<Figure size 432x288 with 1 Axes>"
      ]
     },
     "metadata": {
      "needs_background": "light"
     },
     "output_type": "display_data"
    }
   ],
   "source": [
    "plt.hist(df['view'], bins='auto', alpha=0.7, rwidth=0.85)[2]"
   ]
  },
  {
   "cell_type": "markdown",
   "metadata": {},
   "source": [
    "### Since it's heavily skewed, we apply a log transformation to it."
   ]
  },
  {
   "cell_type": "code",
   "execution_count": 7,
   "metadata": {},
   "outputs": [
    {
     "data": {
      "text/plain": [
       "<a list of 20 Patch objects>"
      ]
     },
     "execution_count": 7,
     "metadata": {},
     "output_type": "execute_result"
    },
    {
     "data": {
      "image/png": "[encoded data removed]",
      "text/plain": [
       "<Figure size 432x288 with 1 Axes>"
      ]
     },
     "metadata": {
      "needs_background": "light"
     },
     "output_type": "display_data"
    }
   ],
   "source": [
    "df['view_log'] = np.log(df['view'])\n",
    "plt.hist(df['view_log'], bins='auto', alpha=0.7, rwidth=0.85)[2]"
   ]
  },
  {
   "cell_type": "markdown",
   "metadata": {},
   "source": [
    "### Regression."
   ]
  },
  {
   "cell_type": "code",
   "execution_count": 8,
   "metadata": {},
   "outputs": [
    {
     "data": {
      "text/html": [
       "<table class=\"simpletable\">\n",
       "<caption>OLS Regression Results</caption>\n",
       "<tr>\n",
       "  <th>Dep. Variable:</th>        <td>view_log</td>     <th>  R-squared:         </th> <td>   0.254</td>\n",
       "</tr>\n",
       "<tr>\n",
       "  <th>Model:</th>                   <td>OLS</td>       <th>  Adj. R-squared:    </th> <td>   0.154</td>\n",
       "</tr>\n",
       "<tr>\n",
       "  <th>Method:</th>             <td>Least Squares</td>  <th>  F-statistic:       </th> <td>   2.543</td>\n",
       "</tr>\n",
       "<tr>\n",
       "  <th>Date:</th>             <td>Wed, 18 Mar 2020</td> <th>  Prob (F-statistic):</th> <td>2.01e-06</td>\n",
       "</tr>\n",
       "<tr>\n",
       "  <th>Time:</th>                 <td>19:43:59</td>     <th>  Log-Likelihood:    </th> <td> -792.28</td>\n",
       "</tr>\n",
       "<tr>\n",
       "  <th>No. Observations:</th>      <td>   365</td>      <th>  AIC:               </th> <td>   1673.</td>\n",
       "</tr>\n",
       "<tr>\n",
       "  <th>Df Residuals:</th>          <td>   321</td>      <th>  BIC:               </th> <td>   1844.</td>\n",
       "</tr>\n",
       "<tr>\n",
       "  <th>Df Model:</th>              <td>    43</td>      <th>                     </th>     <td> </td>   \n",
       "</tr>\n",
       "<tr>\n",
       "  <th>Covariance Type:</th>      <td>nonrobust</td>    <th>                     </th>     <td> </td>   \n",
       "</tr>\n",
       "</table>\n",
       "<table class=\"simpletable\">\n",
       "<tr>\n",
       "       <td></td>          <th>coef</th>     <th>std err</th>      <th>t</th>      <th>P>|t|</th>  <th>[0.025</th>    <th>0.975]</th>  \n",
       "</tr>\n",
       "<tr>\n",
       "  <th>const</th>       <td>   10.4265</td> <td>    0.864</td> <td>   12.064</td> <td> 0.000</td> <td>    8.726</td> <td>   12.127</td>\n",
       "</tr>\n",
       "<tr>\n",
       "  <th>uploadtime</th>  <td>-8.293e-05</td> <td> 3.01e-05</td> <td>   -2.752</td> <td> 0.006</td> <td>   -0.000</td> <td>-2.36e-05</td>\n",
       "</tr>\n",
       "<tr>\n",
       "  <th>length</th>      <td>-1.033e-06</td> <td>  3.2e-06</td> <td>   -0.323</td> <td> 0.747</td> <td>-7.34e-06</td> <td> 5.27e-06</td>\n",
       "</tr>\n",
       "<tr>\n",
       "  <th>subscriber</th>  <td> 2.338e-07</td> <td> 3.87e-08</td> <td>    6.037</td> <td> 0.000</td> <td> 1.58e-07</td> <td>  3.1e-07</td>\n",
       "</tr>\n",
       "<tr>\n",
       "  <th>coronavirus</th> <td>    0.8791</td> <td>    0.855</td> <td>    1.028</td> <td> 0.305</td> <td>   -0.804</td> <td>    2.562</td>\n",
       "</tr>\n",
       "<tr>\n",
       "  <th>news</th>        <td>    1.0767</td> <td>    0.727</td> <td>    1.480</td> <td> 0.140</td> <td>   -0.354</td> <td>    2.508</td>\n",
       "</tr>\n",
       "<tr>\n",
       "  <th>outbreak</th>    <td>    0.5779</td> <td>    0.398</td> <td>    1.451</td> <td> 0.148</td> <td>   -0.206</td> <td>    1.362</td>\n",
       "</tr>\n",
       "<tr>\n",
       "  <th>china</th>       <td>    0.2287</td> <td>    0.408</td> <td>    0.560</td> <td> 0.576</td> <td>   -0.575</td> <td>    1.032</td>\n",
       "</tr>\n",
       "<tr>\n",
       "  <th>trump</th>       <td>    0.5825</td> <td>    0.610</td> <td>    0.955</td> <td> 0.340</td> <td>   -0.617</td> <td>    1.782</td>\n",
       "</tr>\n",
       "<tr>\n",
       "  <th>covid</th>       <td>    0.2058</td> <td>    0.502</td> <td>    0.410</td> <td> 0.682</td> <td>   -0.783</td> <td>    1.194</td>\n",
       "</tr>\n",
       "<tr>\n",
       "  <th>case</th>        <td>    0.3042</td> <td>    0.571</td> <td>    0.532</td> <td> 0.595</td> <td>   -0.820</td> <td>    1.428</td>\n",
       "</tr>\n",
       "<tr>\n",
       "  <th>u</th>           <td>    0.0638</td> <td>    0.573</td> <td>    0.111</td> <td> 0.912</td> <td>   -1.064</td> <td>    1.192</td>\n",
       "</tr>\n",
       "<tr>\n",
       "  <th>death</th>       <td>    0.3355</td> <td>    0.732</td> <td>    0.459</td> <td> 0.647</td> <td>   -1.104</td> <td>    1.775</td>\n",
       "</tr>\n",
       "<tr>\n",
       "  <th>italy</th>       <td>   -0.5341</td> <td>    0.649</td> <td>   -0.822</td> <td> 0.411</td> <td>   -1.812</td> <td>    0.743</td>\n",
       "</tr>\n",
       "<tr>\n",
       "  <th>bbc</th>         <td>   -0.5247</td> <td>    0.800</td> <td>   -0.655</td> <td> 0.513</td> <td>   -2.099</td> <td>    1.050</td>\n",
       "</tr>\n",
       "<tr>\n",
       "  <th>wuhan</th>       <td>    0.2617</td> <td>    0.624</td> <td>    0.419</td> <td> 0.675</td> <td>   -0.967</td> <td>    1.490</td>\n",
       "</tr>\n",
       "<tr>\n",
       "  <th>update</th>      <td>   -0.0937</td> <td>    0.636</td> <td>   -0.147</td> <td> 0.883</td> <td>   -1.345</td> <td>    1.157</td>\n",
       "</tr>\n",
       "<tr>\n",
       "  <th>spread</th>      <td>   -0.6200</td> <td>    0.613</td> <td>   -1.011</td> <td> 0.313</td> <td>   -1.827</td> <td>    0.587</td>\n",
       "</tr>\n",
       "<tr>\n",
       "  <th>el</th>          <td>    1.2401</td> <td>    0.685</td> <td>    1.810</td> <td> 0.071</td> <td>   -0.108</td> <td>    2.588</td>\n",
       "</tr>\n",
       "<tr>\n",
       "  <th>new</th>         <td>   -0.1200</td> <td>    0.651</td> <td>   -0.184</td> <td> 0.854</td> <td>   -1.401</td> <td>    1.161</td>\n",
       "</tr>\n",
       "<tr>\n",
       "  <th>msnbc</th>       <td>   -0.3691</td> <td>    0.717</td> <td>   -0.515</td> <td> 0.607</td> <td>   -1.780</td> <td>    1.042</td>\n",
       "</tr>\n",
       "<tr>\n",
       "  <th>response</th>    <td>    0.3870</td> <td>    0.722</td> <td>    0.536</td> <td> 0.592</td> <td>   -1.033</td> <td>    1.807</td>\n",
       "</tr>\n",
       "<tr>\n",
       "  <th>virus</th>       <td>   -0.2523</td> <td>    0.755</td> <td>   -0.334</td> <td> 0.738</td> <td>   -1.738</td> <td>    1.233</td>\n",
       "</tr>\n",
       "<tr>\n",
       "  <th>en</th>          <td>    0.8730</td> <td>    0.753</td> <td>    1.160</td> <td> 0.247</td> <td>   -0.608</td> <td>    2.354</td>\n",
       "</tr>\n",
       "<tr>\n",
       "  <th>nbc</th>         <td>   -0.3759</td> <td>    1.084</td> <td>   -0.347</td> <td> 0.729</td> <td>   -2.509</td> <td>    1.758</td>\n",
       "</tr>\n",
       "<tr>\n",
       "  <th>doctor</th>      <td>    0.3003</td> <td>    0.754</td> <td>    0.398</td> <td> 0.691</td> <td>   -1.183</td> <td>    1.783</td>\n",
       "</tr>\n",
       "<tr>\n",
       "  <th>abc</th>         <td>   -1.6472</td> <td>    1.077</td> <td>   -1.530</td> <td> 0.127</td> <td>   -3.766</td> <td>    0.471</td>\n",
       "</tr>\n",
       "<tr>\n",
       "  <th>symptom</th>     <td>    0.2730</td> <td>    0.763</td> <td>    0.358</td> <td> 0.721</td> <td>   -1.228</td> <td>    1.774</td>\n",
       "</tr>\n",
       "<tr>\n",
       "  <th>people</th>      <td>   -0.5394</td> <td>    0.812</td> <td>   -0.665</td> <td> 0.507</td> <td>   -2.136</td> <td>    1.057</td>\n",
       "</tr>\n",
       "<tr>\n",
       "  <th>disease</th>     <td>   -0.7344</td> <td>    0.824</td> <td>   -0.892</td> <td> 0.373</td> <td>   -2.355</td> <td>    0.886</td>\n",
       "</tr>\n",
       "<tr>\n",
       "  <th>global</th>      <td>    0.9052</td> <td>    0.818</td> <td>    1.107</td> <td> 0.269</td> <td>   -0.704</td> <td>    2.514</td>\n",
       "</tr>\n",
       "<tr>\n",
       "  <th>la</th>          <td>    0.6836</td> <td>    0.895</td> <td>    0.764</td> <td> 0.445</td> <td>   -1.076</td> <td>    2.443</td>\n",
       "</tr>\n",
       "<tr>\n",
       "  <th>today</th>       <td>    0.8357</td> <td>    0.865</td> <td>    0.966</td> <td> 0.335</td> <td>   -0.865</td> <td>    2.537</td>\n",
       "</tr>\n",
       "<tr>\n",
       "  <th>lockdown</th>    <td>    0.6915</td> <td>    0.911</td> <td>    0.759</td> <td> 0.448</td> <td>   -1.100</td> <td>    2.483</td>\n",
       "</tr>\n",
       "<tr>\n",
       "  <th>quarantine</th>  <td>    0.9020</td> <td>    0.888</td> <td>    1.016</td> <td> 0.310</td> <td>   -0.844</td> <td>    2.648</td>\n",
       "</tr>\n",
       "<tr>\n",
       "  <th>live</th>        <td>   -0.5066</td> <td>    0.911</td> <td>   -0.556</td> <td> 0.579</td> <td>   -2.299</td> <td>    1.286</td>\n",
       "</tr>\n",
       "<tr>\n",
       "  <th>de</th>          <td>    1.2064</td> <td>    0.917</td> <td>    1.315</td> <td> 0.189</td> <td>   -0.598</td> <td>    3.011</td>\n",
       "</tr>\n",
       "<tr>\n",
       "  <th>toll</th>        <td>    0.4286</td> <td>    1.068</td> <td>    0.401</td> <td> 0.688</td> <td>   -1.672</td> <td>    2.529</td>\n",
       "</tr>\n",
       "<tr>\n",
       "  <th>first</th>       <td>    0.4540</td> <td>    0.892</td> <td>    0.509</td> <td> 0.611</td> <td>   -1.301</td> <td>    2.209</td>\n",
       "</tr>\n",
       "<tr>\n",
       "  <th>pandemic</th>    <td>    1.2753</td> <td>    0.837</td> <td>    1.524</td> <td> 0.128</td> <td>   -0.371</td> <td>    2.921</td>\n",
       "</tr>\n",
       "<tr>\n",
       "  <th>expert</th>      <td>    1.2183</td> <td>    0.875</td> <td>    1.392</td> <td> 0.165</td> <td>   -0.504</td> <td>    2.941</td>\n",
       "</tr>\n",
       "<tr>\n",
       "  <th>iran</th>        <td>   -0.0244</td> <td>    0.899</td> <td>   -0.027</td> <td> 0.978</td> <td>   -1.793</td> <td>    1.744</td>\n",
       "</tr>\n",
       "<tr>\n",
       "  <th>dw</th>          <td>    0.0880</td> <td>    1.152</td> <td>    0.076</td> <td> 0.939</td> <td>   -2.178</td> <td>    2.354</td>\n",
       "</tr>\n",
       "<tr>\n",
       "  <th>rise</th>        <td>   -0.0807</td> <td>    1.048</td> <td>   -0.077</td> <td> 0.939</td> <td>   -2.142</td> <td>    1.981</td>\n",
       "</tr>\n",
       "</table>\n",
       "<table class=\"simpletable\">\n",
       "<tr>\n",
       "  <th>Omnibus:</th>       <td>79.331</td> <th>  Durbin-Watson:     </th> <td>   1.093</td>\n",
       "</tr>\n",
       "<tr>\n",
       "  <th>Prob(Omnibus):</th> <td> 0.000</td> <th>  Jarque-Bera (JB):  </th> <td> 143.679</td>\n",
       "</tr>\n",
       "<tr>\n",
       "  <th>Skew:</th>          <td>-1.208</td> <th>  Prob(JB):          </th> <td>6.32e-32</td>\n",
       "</tr>\n",
       "<tr>\n",
       "  <th>Kurtosis:</th>      <td> 4.901</td> <th>  Cond. No.          </th> <td>6.40e+07</td>\n",
       "</tr>\n",
       "</table><br/><br/>Warnings:<br/>[1] Standard Errors assume that the covariance matrix of the errors is correctly specified.<br/>[2] The condition number is large, 6.4e+07. This might indicate that there are<br/>strong multicollinearity or other numerical problems."
      ],
      "text/plain": [
       "<class 'statsmodels.iolib.summary.Summary'>\n",
       "\"\"\"\n",
       "                            OLS Regression Results                            \n",
       "==============================================================================\n",
       "Dep. Variable:               view_log   R-squared:                       0.254\n",
       "Model:                            OLS   Adj. R-squared:                  0.154\n",
       "Method:                 Least Squares   F-statistic:                     2.543\n",
       "Date:                Wed, 18 Mar 2020   Prob (F-statistic):           2.01e-06\n",
       "Time:                        19:43:59   Log-Likelihood:                -792.28\n",
       "No. Observations:                 365   AIC:                             1673.\n",
       "Df Residuals:                     321   BIC:                             1844.\n",
       "Df Model:                          43                                         \n",
       "Covariance Type:            nonrobust                                         \n",
       "===============================================================================\n",
       "                  coef    std err          t      P>|t|      [0.025      0.975]\n",
       "-------------------------------------------------------------------------------\n",
       "const          10.4265      0.864     12.064      0.000       8.726      12.127\n",
       "uploadtime  -8.293e-05   3.01e-05     -2.752      0.006      -0.000   -2.36e-05\n",
       "length      -1.033e-06    3.2e-06     -0.323      0.747   -7.34e-06    5.27e-06\n",
       "subscriber   2.338e-07   3.87e-08      6.037      0.000    1.58e-07     3.1e-07\n",
       "coronavirus     0.8791      0.855      1.028      0.305      -0.804       2.562\n",
       "news            1.0767      0.727      1.480      0.140      -0.354       2.508\n",
       "outbreak        0.5779      0.398      1.451      0.148      -0.206       1.362\n",
       "china           0.2287      0.408      0.560      0.576      -0.575       1.032\n",
       "trump           0.5825      0.610      0.955      0.340      -0.617       1.782\n",
       "covid           0.2058      0.502      0.410      0.682      -0.783       1.194\n",
       "case            0.3042      0.571      0.532      0.595      -0.820       1.428\n",
       "u               0.0638      0.573      0.111      0.912      -1.064       1.192\n",
       "death           0.3355      0.732      0.459      0.647      -1.104       1.775\n",
       "italy          -0.5341      0.649     -0.822      0.411      -1.812       0.743\n",
       "bbc            -0.5247      0.800     -0.655      0.513      -2.099       1.050\n",
       "wuhan           0.2617      0.624      0.419      0.675      -0.967       1.490\n",
       "update         -0.0937      0.636     -0.147      0.883      -1.345       1.157\n",
       "spread         -0.6200      0.613     -1.011      0.313      -1.827       0.587\n",
       "el              1.2401      0.685      1.810      0.071      -0.108       2.588\n",
       "new            -0.1200      0.651     -0.184      0.854      -1.401       1.161\n",
       "msnbc          -0.3691      0.717     -0.515      0.607      -1.780       1.042\n",
       "response        0.3870      0.722      0.536      0.592      -1.033       1.807\n",
       "virus          -0.2523      0.755     -0.334      0.738      -1.738       1.233\n",
       "en              0.8730      0.753      1.160      0.247      -0.608       2.354\n",
       "nbc            -0.3759      1.084     -0.347      0.729      -2.509       1.758\n",
       "doctor          0.3003      0.754      0.398      0.691      -1.183       1.783\n",
       "abc            -1.6472      1.077     -1.530      0.127      -3.766       0.471\n",
       "symptom         0.2730      0.763      0.358      0.721      -1.228       1.774\n",
       "people         -0.5394      0.812     -0.665      0.507      -2.136       1.057\n",
       "disease        -0.7344      0.824     -0.892      0.373      -2.355       0.886\n",
       "global          0.9052      0.818      1.107      0.269      -0.704       2.514\n",
       "la              0.6836      0.895      0.764      0.445      -1.076       2.443\n",
       "today           0.8357      0.865      0.966      0.335      -0.865       2.537\n",
       "lockdown        0.6915      0.911      0.759      0.448      -1.100       2.483\n",
       "quarantine      0.9020      0.888      1.016      0.310      -0.844       2.648\n",
       "live           -0.5066      0.911     -0.556      0.579      -2.299       1.286\n",
       "de              1.2064      0.917      1.315      0.189      -0.598       3.011\n",
       "toll            0.4286      1.068      0.401      0.688      -1.672       2.529\n",
       "first           0.4540      0.892      0.509      0.611      -1.301       2.209\n",
       "pandemic        1.2753      0.837      1.524      0.128      -0.371       2.921\n",
       "expert          1.2183      0.875      1.392      0.165      -0.504       2.941\n",
       "iran           -0.0244      0.899     -0.027      0.978      -1.793       1.744\n",
       "dw              0.0880      1.152      0.076      0.939      -2.178       2.354\n",
       "rise           -0.0807      1.048     -0.077      0.939      -2.142       1.981\n",
       "==============================================================================\n",
       "Omnibus:                       79.331   Durbin-Watson:                   1.093\n",
       "Prob(Omnibus):                  0.000   Jarque-Bera (JB):              143.679\n",
       "Skew:                          -1.208   Prob(JB):                     6.32e-32\n",
       "Kurtosis:                       4.901   Cond. No.                     6.40e+07\n",
       "==============================================================================\n",
       "\n",
       "Warnings:\n",
       "[1] Standard Errors assume that the covariance matrix of the errors is correctly specified.\n",
       "[2] The condition number is large, 6.4e+07. This might indicate that there are\n",
       "strong multicollinearity or other numerical problems.\n",
       "\"\"\""
      ]
     },
     "execution_count": 8,
     "metadata": {},
     "output_type": "execute_result"
    }
   ],
   "source": [
    "df2 = pd.concat([df.uploadtime, df.length, df.subscriber, df.iloc[:,11:51]], axis=1)\n",
    "X = df2; Y = df['view_log']; X = sm.add_constant(X); X = X.astype(float)\n",
    "model = sm.OLS(Y, X).fit()\n",
    "#predictions = model.predict(X)\n",
    "model.summary()"
   ]
  },
  {
   "cell_type": "markdown",
   "metadata": {},
   "source": [
    "## Answer and analysis: \n",
    "-As we see from the above results, the prediction for future views by linear regression model would be highly problematic and demonstrate lack-of-fit since the R square is only around 0.25. The relationship between the views and One-Hot-Encoded text may not be exactly linear. \n",
    "\n",
    "-Based on current model, only subscriber and upload time remain significant, which is reasonable. If a channel has larger number of subscribers and the video has indeed been uploaded for a longer time the expected number of viewers should be higher intuitively.\n",
    "\n",
    "=====================================================================================================================\n"
   ]
  },
  {
   "cell_type": "markdown",
   "metadata": {},
   "source": [
    "=====================================================================================================================\n",
    "# Question 2. What are the key features of these titles by the method of PCA?\n",
    "\n",
    "## - Question Description: \n",
    "PCA is a technique that create a new set of variables which are linear composites of the original variables.\n",
    "We want to see if PCA could reveal some underlying patterns of those constructed features and at the same time achieve the purpose of dimension reduction.\n",
    "\n",
    "## - Model: PCA\n",
    "\n",
    "- Using the method of PCR and loss function of MSE, we can easily find that the top three PC are enough to yeild satisfying results.\n",
    "- The shape and clustering of the first three componients are plotted as a summary."
   ]
  },
  {
   "cell_type": "code",
   "execution_count": 9,
   "metadata": {},
   "outputs": [],
   "source": [
    "#PCA\n",
    "pca = PCA(n_components = 'mle')\n",
    "X_reduced = pca.fit_transform(X)\n",
    "X_reduced.shape\n",
    "#Perform 10-fold cross-validation to see how PCR influences MSE.\n",
    "n = len(X_reduced)\n",
    "fold = model_selection.KFold(n_splits=10, shuffle=True, random_state=1)\n",
    "\n",
    "model2 = LinearRegression(); mse = []    \n",
    "mse.append(-model_selection.cross_val_score(model2, np.ones((n,1)), Y.ravel(), cv=fold, scoring='neg_mean_squared_error').mean())\n",
    "\n",
    "for i in np.arange(1, 44):\n",
    "    mse.append(-model_selection.cross_val_score(model2, X_reduced[:,:i], Y.ravel(), cv=fold, scoring='neg_mean_squared_error').mean())"
   ]
  },
  {
   "cell_type": "code",
   "execution_count": 10,
   "metadata": {},
   "outputs": [
    {
     "data": {
      "text/plain": [
       "[<matplotlib.lines.Line2D at 0x2824a039ec8>]"
      ]
     },
     "execution_count": 10,
     "metadata": {},
     "output_type": "execute_result"
    },
    {
     "data": {
      "image/png": "[encoded data removed]",
      "text/plain": [
       "<Figure size 432x288 with 1 Axes>"
      ]
     },
     "metadata": {
      "needs_background": "light"
     },
     "output_type": "display_data"
    }
   ],
   "source": [
    "plt.plot(mse)\n",
    "plt.xlabel('Number of Principal Components')\n",
    "plt.ylabel('MSE')\n",
    "plt.plot(3, mse[3], 'o', color = 'r')"
   ]
  },
  {
   "cell_type": "markdown",
   "metadata": {},
   "source": [
    "### It's reasonable to choose n_components = 3."
   ]
  },
  {
   "cell_type": "code",
   "execution_count": 11,
   "metadata": {},
   "outputs": [
    {
     "data": {
      "text/plain": [
       "<mpl_toolkits.mplot3d.art3d.Path3DCollection at 0x2824a0a6e48>"
      ]
     },
     "execution_count": 11,
     "metadata": {},
     "output_type": "execute_result"
    },
    {
     "data": {
      "image/png": "[encoded data removed]",
      "text/plain": [
       "<Figure size 432x288 with 1 Axes>"
      ]
     },
     "metadata": {
      "needs_background": "light"
     },
     "output_type": "display_data"
    }
   ],
   "source": [
    "pca = PCA(n_components = 3)\n",
    "X_pca = pca.fit_transform(X)\n",
    "\n",
    "fig = plt.figure()\n",
    "ax = fig.add_subplot(projection='3d')\n",
    "ax.scatter(X_pca[:,0], X_pca[:,1], X_pca[:,2])"
   ]
  },
  {
   "cell_type": "code",
   "execution_count": 12,
   "metadata": {},
   "outputs": [
    {
     "name": "stdout",
     "output_type": "stream",
     "text": [
      "             const  uploadtime    length  subscriber   coronavirus  \\\n",
      "PC-1  9.054911e-18   -0.000136 -0.001434    0.999999  3.708338e-10   \n",
      "PC-2 -5.248631e-17    0.022366  0.999749    0.001437 -6.163220e-07   \n",
      "PC-3  5.830653e-17    0.999750 -0.022366    0.000104 -2.142624e-05   \n",
      "\n",
      "              news      outbreak         china         trump         covid  \\\n",
      "PC-1  1.713152e-08  6.799196e-11 -7.051436e-09  8.765492e-09 -7.117962e-09   \n",
      "PC-2 -4.502931e-07 -2.695990e-07  4.582790e-08  2.006392e-07  1.700825e-07   \n",
      "PC-3 -1.698895e-06 -2.522336e-06 -2.243218e-06 -1.589085e-06 -2.485025e-06   \n",
      "\n",
      "      ...    quarantine          live            de          toll  \\\n",
      "PC-1  ...  1.385860e-10 -2.656338e-09 -2.008917e-09  6.920370e-10   \n",
      "PC-2  ... -1.808783e-07  7.863021e-07 -3.114608e-08 -1.734914e-07   \n",
      "PC-3  ... -3.021404e-07  3.786603e-06 -4.743615e-07 -2.790792e-07   \n",
      "\n",
      "             first      pandemic        expert          iran            dw  \\\n",
      "PC-1 -8.229784e-11 -1.238405e-09 -3.245702e-09  1.061735e-09 -2.602353e-09   \n",
      "PC-2 -1.773012e-07  4.981731e-07 -5.938883e-08 -1.688658e-07 -1.880554e-07   \n",
      "PC-3 -3.984020e-07 -1.253401e-06 -7.129454e-07 -2.905165e-07 -2.834622e-07   \n",
      "\n",
      "              rise  \n",
      "PC-1  1.282292e-09  \n",
      "PC-2  6.591185e-08  \n",
      "PC-3 -4.842260e-07  \n",
      "\n",
      "[3 rows x 44 columns]\n"
     ]
    }
   ],
   "source": [
    "print (pd.DataFrame(pca.components_,columns=X.columns,index = ['PC-1','PC-2','PC-3']))"
   ]
  },
  {
   "cell_type": "markdown",
   "metadata": {},
   "source": [
    "## Answer and analysis: \n",
    "- We have a high dimensional data X consists of original features like upload time and video length and word frequency constructed from video title.\n",
    "After choosing 3 principle conponents, we can see two very strong 'line' patterns.  And the data are seperated into clear groups. Variables that are correlated with 3 first PC are the most important in explaining the variability in the data set. The rest of the data contribute less in helping exaplain the variability of the data.\n",
    "\n",
    "\n",
    "=====================================================================================================================\n"
   ]
  },
  {
   "cell_type": "markdown",
   "metadata": {},
   "source": [
    "=====================================================================================================================\n",
    "# Question 3. If we can determine this video will be likeable/ What kind of video recommended to user tend to get positive feedback ?\n",
    "\n",
    "\n",
    "## - Question Description: \n",
    "\n",
    "Based current data, we want to know what kind of videos with certain features will become popular among the audiences. It should also be a recommendation system problem, meaning that pushing what kinds of videos to the users tend to get positive feedback.\n",
    "\n",
    "## - Model: Naive Bayes Text Classification\n",
    "    \n",
    "Here we defined a video as likeable by creating a binary classifier in two different ways. Firstly, by the method of odds ratios, when like/dislike ratio > a threshold, we classify it as 1 otherwise, 0. Secondly, by the method of log(mean), when log(mean) > a threshold, we classify it as 1 otherwise, 0. The choice of threshold should balance the data so the possible options are mean or median.\n",
    "\n"
   ]
  },
  {
   "cell_type": "code",
   "execution_count": 13,
   "metadata": {},
   "outputs": [],
   "source": [
    "### The text here includes titles and channel names.\n",
    "seed=2020\n",
    "np.random.seed(seed)\n",
    "df['all_text'] = df['clean_text'] + ' '+ df['channel']"
   ]
  },
  {
   "cell_type": "markdown",
   "metadata": {},
   "source": [
    "### Approach 1. When like/dislike ratio > median, we classify this article as 1; otherwise, 0."
   ]
  },
  {
   "cell_type": "code",
   "execution_count": 14,
   "metadata": {},
   "outputs": [
    {
     "data": {
      "text/plain": [
       "11.923913043478262"
      ]
     },
     "execution_count": 14,
     "metadata": {},
     "output_type": "execute_result"
    }
   ],
   "source": [
    "df['ratio'] = df['like']/df['dislike']\n",
    "np.median(df['ratio'][np.isfinite(df['ratio'])])"
   ]
  },
  {
   "cell_type": "code",
   "execution_count": 15,
   "metadata": {},
   "outputs": [],
   "source": [
    "df['classifier'] = df['ratio'].copy()\n",
    "for i in range(df.shape[0]):\n",
    "    if df['ratio'][i] > 12: df['classifier'][i] = 1\n",
    "    else: df['classifier'][i] = 0"
   ]
  },
  {
   "cell_type": "markdown",
   "metadata": {},
   "source": [
    "### Split the titles and classifiers into a training and test set using a 20% test split"
   ]
  },
  {
   "cell_type": "code",
   "execution_count": 16,
   "metadata": {},
   "outputs": [],
   "source": [
    "texts_all = df['all_text'].values\n",
    "labels_all = df['classifier'].values\n",
    "train_texts, test_texts, train_labels, test_labels = train_test_split(texts_all, labels_all, test_size=0.2)\n",
    "### Create `count`, `set` and `Tfidf` features using `CountVectorizer` and `TfidfVectorizer`.\n",
    "\n",
    "count0 = CountVectorizer(input='content')\n",
    "count1 = count0.fit_transform(train_texts)\n",
    "count2 = count0.transform(test_texts)\n",
    "\n",
    "set0 = CountVectorizer(input='content', binary=True)\n",
    "set1 = set0.fit_transform(train_texts)\n",
    "set2 = set0.transform(test_texts)\n",
    "\n",
    "Tfidf0 = TfidfVectorizer(input='content')\n",
    "Tfidf1 = Tfidf0.fit_transform(train_texts)\n",
    "Tfidf2 = Tfidf0.transform(test_texts)"
   ]
  },
  {
   "cell_type": "markdown",
   "metadata": {},
   "source": [
    "### Fit a `MultinomialNB` with smoothing $\\alpha=1$ to the count features."
   ]
  },
  {
   "cell_type": "code",
   "execution_count": 17,
   "metadata": {},
   "outputs": [
    {
     "name": "stdout",
     "output_type": "stream",
     "text": [
      "The predicition accuracy in the training set is: 0.928082191780822\n"
     ]
    }
   ],
   "source": [
    "m0 = MultinomialNB(1)\n",
    "m0.fit(count1, train_labels)\n",
    "print('The predicition accuracy in the training set is:', np.mean(m0.predict(count1)==train_labels))"
   ]
  },
  {
   "cell_type": "markdown",
   "metadata": {},
   "source": [
    "### Use K-Fold validation with K=10 to select between multinomial Naive Bayes classifiers trained to either `set`, `count` and `tfidf` featues."
   ]
  },
  {
   "cell_type": "code",
   "execution_count": 18,
   "metadata": {},
   "outputs": [],
   "source": [
    "def model_cross_validation(model,X,y,folds):\n",
    "    kfolds=len(folds)\n",
    "    train_performance=np.empty(kfolds)\n",
    "    validation_performance=np.empty(kfolds)\n",
    "    for idx in range(kfolds):\n",
    "        train,validation=folds[idx]\n",
    "        X_train=X[train]\n",
    "        y_train=y[train]\n",
    "        model.fit(X_train,y_train)\n",
    "        train_accuracy=np.average(model.predict(X_train)==y_train)\n",
    "        X_validation=X[validation]\n",
    "        y_validation=y[validation]\n",
    "        validation_accuracy=np.average(model.predict(X_validation)==y_validation)\n",
    "        train_performance[idx]=train_accuracy\n",
    "        validation_performance[idx]=validation_accuracy\n",
    "    return np.array(train_performance),np.array(validation_performance)\n",
    "\n",
    "kf=KFold(10,shuffle=True)\n",
    "folds=list(kf.split(set1))"
   ]
  },
  {
   "cell_type": "code",
   "execution_count": 19,
   "metadata": {},
   "outputs": [
    {
     "name": "stdout",
     "output_type": "stream",
     "text": [
      "Train:  0.9360694279162918 ; Validation:  0.6394252873563219\n"
     ]
    }
   ],
   "source": [
    "t1, v1 = model_cross_validation(m0, set1, train_labels, folds)\n",
    "# The accuracy of set features:\n",
    "print(\"Train: \", np.mean(t1), \"; Validation: \", np.mean(v1))"
   ]
  },
  {
   "cell_type": "code",
   "execution_count": 20,
   "metadata": {},
   "outputs": [
    {
     "name": "stdout",
     "output_type": "stream",
     "text": [
      "Train:  0.9284605114213565 ; Validation:  0.6670114942528735\n"
     ]
    }
   ],
   "source": [
    "t2, v2 = model_cross_validation(m0, count1, train_labels, folds)\n",
    "# The accuracy of count features:\n",
    "print(\"Train: \", np.mean(t2), \"; Validation: \", np.mean(v2))"
   ]
  },
  {
   "cell_type": "code",
   "execution_count": 21,
   "metadata": {},
   "outputs": [
    {
     "name": "stdout",
     "output_type": "stream",
     "text": [
      "Train:  0.9417801062316778 ; Validation:  0.6328735632183908\n"
     ]
    }
   ],
   "source": [
    "t3, v3 = model_cross_validation(m0, Tfidf1, train_labels, folds)\n",
    "# The accuracy of tfdif features:\n",
    "print(\"Train: \", np.mean(t3), \"; Validation: \", np.mean(v3))"
   ]
  },
  {
   "cell_type": "markdown",
   "metadata": {},
   "source": [
    "### The count features have the best accuracy."
   ]
  },
  {
   "cell_type": "markdown",
   "metadata": {},
   "source": [
    "### Therefore, we fit the best model to all the training data and compute its accuracy on the test set."
   ]
  },
  {
   "cell_type": "code",
   "execution_count": 22,
   "metadata": {},
   "outputs": [
    {
     "name": "stdout",
     "output_type": "stream",
     "text": [
      "The accuracy on the test set is: 0.7397260273972602\n"
     ]
    }
   ],
   "source": [
    "m0.fit(count1, train_labels)\n",
    "print('The accuracy on the test set is:', np.mean(m0.predict(count2)==test_labels))"
   ]
  },
  {
   "cell_type": "markdown",
   "metadata": {},
   "source": [
    "### Approach 2. When log(view) > mean, we classify this article as 1; otherwise, 0."
   ]
  },
  {
   "cell_type": "code",
   "execution_count": 23,
   "metadata": {},
   "outputs": [
    {
     "data": {
      "text/plain": [
       "12.840000466430148"
      ]
     },
     "execution_count": 23,
     "metadata": {},
     "output_type": "execute_result"
    }
   ],
   "source": [
    "np.median(df['view_log'][np.isfinite(df['view_log'])])"
   ]
  },
  {
   "cell_type": "code",
   "execution_count": 24,
   "metadata": {},
   "outputs": [],
   "source": [
    "df['classifier2'] = df['view_log'].copy()\n",
    "for i in range(df.shape[0]):\n",
    "    if df['view_log'][i] > 12.84: df['classifier2'][i] = 1\n",
    "    else: df['classifier2'][i] = 0"
   ]
  },
  {
   "cell_type": "markdown",
   "metadata": {},
   "source": [
    "### Split the titles and classifiers into a training and test set using a 20% test split"
   ]
  },
  {
   "cell_type": "code",
   "execution_count": 25,
   "metadata": {},
   "outputs": [],
   "source": [
    "texts_all = df['all_text'].values\n",
    "labels2_all = df['classifier2'].values\n",
    "train_texts, test_texts, train_labels2, test_labels2 = train_test_split(texts_all, labels2_all, test_size=0.2)"
   ]
  },
  {
   "cell_type": "markdown",
   "metadata": {},
   "source": [
    "### Create `count`, `set` and `Tfidf` features using `CountVectorizer` and `TfidfVectorizer`."
   ]
  },
  {
   "cell_type": "code",
   "execution_count": 26,
   "metadata": {},
   "outputs": [],
   "source": [
    "count0_2 = CountVectorizer(input='content')\n",
    "count1_2 = count0.fit_transform(train_texts)\n",
    "count2_2 = count0.transform(test_texts)\n",
    "\n",
    "set0_2 = CountVectorizer(input='content', binary=True)\n",
    "set1_2 = set0.fit_transform(train_texts)\n",
    "set2_2 = set0.transform(test_texts)\n",
    "\n",
    "Tfidf0_2 = TfidfVectorizer(input='content')\n",
    "Tfidf1_2 = Tfidf0.fit_transform(train_texts)\n",
    "Tfidf2_2 = Tfidf0.transform(test_texts)"
   ]
  },
  {
   "cell_type": "markdown",
   "metadata": {},
   "source": [
    "### Fit a `MultinomialNB` with smoothing $\\alpha=1$ to the count features."
   ]
  },
  {
   "cell_type": "code",
   "execution_count": 27,
   "metadata": {},
   "outputs": [
    {
     "name": "stdout",
     "output_type": "stream",
     "text": [
      "The predicition accuracy in the training set is: 0.9554794520547946\n"
     ]
    }
   ],
   "source": [
    "m1 = MultinomialNB(1)\n",
    "m1.fit(count1_2, train_labels2)\n",
    "print('The predicition accuracy in the training set is:', np.mean(m1.predict(count1_2)==train_labels2))"
   ]
  },
  {
   "cell_type": "markdown",
   "metadata": {},
   "source": [
    "### Use K-Fold validation with K=10 to select between multinomial Naive Bayes classifiers trained to either `set`, `count` and `tfidf` featues."
   ]
  },
  {
   "cell_type": "code",
   "execution_count": 28,
   "metadata": {},
   "outputs": [],
   "source": [
    "kf=KFold(10,shuffle=True)\n",
    "folds=list(kf.split(set1_2))"
   ]
  },
  {
   "cell_type": "code",
   "execution_count": 29,
   "metadata": {},
   "outputs": [
    {
     "name": "stdout",
     "output_type": "stream",
     "text": [
      "Train:  0.9661408295358894 ; Validation:  0.6268965517241379\n"
     ]
    }
   ],
   "source": [
    "t1_2, v1_2 = model_cross_validation(m1, set1_2, train_labels2, folds)\n",
    "# The accuracy of set features:\n",
    "print(\"Train: \", np.mean(t1_2), \"; Validation: \", np.mean(v1_2))"
   ]
  },
  {
   "cell_type": "code",
   "execution_count": 30,
   "metadata": {},
   "outputs": [
    {
     "name": "stdout",
     "output_type": "stream",
     "text": [
      "Train:  0.9642338838417555 ; Validation:  0.640574712643678\n"
     ]
    }
   ],
   "source": [
    "t2_2, v2_2 = model_cross_validation(m1, count1_2, train_labels2, folds)\n",
    "# The accuracy of count features:\n",
    "print(\"Train: \", np.mean(t2_2), \"; Validation: \", np.mean(v2_2))"
   ]
  },
  {
   "cell_type": "code",
   "execution_count": 31,
   "metadata": {},
   "outputs": [
    {
     "name": "stdout",
     "output_type": "stream",
     "text": [
      "Train:  0.9699431109047107 ; Validation:  0.6573563218390805\n"
     ]
    }
   ],
   "source": [
    "t3_2, v3_2 = model_cross_validation(m1, Tfidf1_2, train_labels2, folds)\n",
    "# The accuracy of tfdif features:\n",
    "print(\"Train: \", np.mean(t3_2), \"; Validation: \", np.mean(v3_2))"
   ]
  },
  {
   "cell_type": "markdown",
   "metadata": {},
   "source": [
    "### Therefore, we fit the best model to all the training data and compute its accuracy on the test set."
   ]
  },
  {
   "cell_type": "code",
   "execution_count": 32,
   "metadata": {},
   "outputs": [
    {
     "name": "stdout",
     "output_type": "stream",
     "text": [
      "The accuracy on the test set is: 0.6027397260273972\n"
     ]
    }
   ],
   "source": [
    "m1.fit(count1_2, train_labels2)\n",
    "print('The accuracy on the test set is:', np.mean(m1.predict(count2_2)==test_labels2))"
   ]
  },
  {
   "cell_type": "markdown",
   "metadata": {},
   "source": [
    "## Answer and analysis: \n",
    "\n",
    "- By creating a binary classifier which determines if this video is likeable or nor, we build text classification model to make these kind of decision. Based on current data set, the performance of our model is satisfying and smooth since the accuracy for both models are around 70% .\n",
    "\n",
    "\n",
    "=====================================================================================================================\n"
   ]
  },
  {
   "cell_type": "markdown",
   "metadata": {},
   "source": [
    "=====================================================================================================================\n",
    "# Question 4. What is the possible distribution of video length?\n",
    "\n",
    "## - Question Description: \n",
    "\n",
    "For a specific user, we are interested in the possible distribution of the length of the video.\n",
    "\n",
    "## - Model: \n",
    "\n",
    "Distribution fitting, test on goodness-of-fit and comparisons of QQ plot \n"
   ]
  },
  {
   "cell_type": "code",
   "execution_count": 33,
   "metadata": {},
   "outputs": [
    {
     "name": "stdout",
     "output_type": "stream",
     "text": [
      "\n",
      "Distributions sorted by goodness of fit:\n",
      "----------------------------------------\n",
      "   Distribution   chi_square        p_value\n",
      "3       lognorm    18.181083   4.285423e-01\n",
      "11     invgamma    24.603047   2.734863e-01\n",
      "5      pearson3    29.735536   4.005400e-01\n",
      "2         gamma    29.736381   4.006143e-01\n",
      "0          beta    29.829565   3.998073e-01\n",
      "8   weibull_min    57.113123   3.369444e-01\n",
      "6        triang   309.422345   7.929741e-07\n",
      "10       cauchy   344.907057   5.476972e-08\n",
      "12            t   349.269635   9.732866e-04\n",
      "4          norm   620.290666   2.611897e-04\n",
      "1         expon   813.515869   5.445310e-07\n",
      "7       uniform  1464.022026   1.884428e-38\n",
      "9   weibull_max  5558.231134  6.364468e-128\n"
     ]
    }
   ],
   "source": [
    "from sklearn import datasets\n",
    "df = pd.read_csv('../data/video_clean.csv', index_col = 0)\n",
    "y=df['length']\n",
    "#removing outliers \n",
    "y = [a for a in y if a<3000]\n",
    "y = np.array(y)\n",
    "x = np.arange(len(y))\n",
    "size = len(y)\n",
    "#standardize \n",
    "sc=StandardScaler() \n",
    "yy = y.reshape(-1,1)\n",
    "sc.fit(yy)\n",
    "y_std =sc.transform(yy)\n",
    "y_std = y_std.flatten()\n",
    "y_std\n",
    "del yy\n",
    "import warnings\n",
    "warnings.filterwarnings(\"ignore\")\n",
    "dist_names = ['beta','expon','gamma','lognorm','norm','pearson3','triang','uniform',\n",
    "              'weibull_min',  'weibull_max','cauchy','invgamma','t']\n",
    "chi_square = []\n",
    "p_values = []\n",
    "percentile_bins = np.linspace(0,100,51)\n",
    "percentile_cutoffs = np.percentile(y_std, percentile_bins)\n",
    "observed_frequency, bins = (np.histogram(y_std, bins=percentile_cutoffs))\n",
    "cum_observed_frequency = np.cumsum(observed_frequency)\n",
    "for distribution in dist_names:\n",
    "    dist = getattr(scipy.stats, distribution)\n",
    "    param = dist.fit(y_std)\n",
    "    p = scipy.stats.kstest(y_std, distribution, args=param)[1]  \n",
    "    p_values.append(p)    \n",
    "    cdf_fitted = dist.cdf(percentile_cutoffs, *param[:-2], loc=param[-2], \n",
    "                          scale=param[-1])\n",
    "    expected_frequency = []\n",
    "    for bin in range(len(percentile_bins)-1):\n",
    "        expected_cdf_area = cdf_fitted[bin+1] - cdf_fitted[bin]\n",
    "        expected_frequency.append(expected_cdf_area)\n",
    "    expected_frequency = np.array(expected_frequency) * size\n",
    "    cum_expected_frequency = np.cumsum(expected_frequency)\n",
    "    ss = sum (((cum_expected_frequency - cum_observed_frequency) ** 2) / cum_observed_frequency)\n",
    "    chi_square.append(ss)        \n",
    "results = pd.DataFrame()\n",
    "results['Distribution'] = dist_names\n",
    "results['chi_square'] = chi_square\n",
    "results['p_value'] = p_values\n",
    "results.sort_values(['chi_square'], inplace=True)\n",
    "print ('\\nDistributions sorted by goodness of fit:')\n",
    "print ('----------------------------------------')\n",
    "print (results)\n"
   ]
  },
  {
   "cell_type": "code",
   "execution_count": 34,
   "metadata": {},
   "outputs": [
    {
     "name": "stdout",
     "output_type": "stream",
     "text": [
      "\n",
      "Distribution parameters:\n",
      "------------------------\n",
      "\n",
      "Distribution: lognorm\n",
      "Parameters: (5.026955625622792, 14.999999999963025, 3.6014609285321697)\n",
      "\n",
      "Distribution: invgamma\n",
      "Parameters: (4.427328504284321, -147.09276662440396, 2029.0260996300685)\n",
      "\n",
      "Distribution: pearson3\n",
      "Parameters: (1.428295509959585, 437.52660102664373, 305.35130275862923)\n"
     ]
    },
    {
     "data": {
      "image/png": "[encoded data removed]",
      "text/plain": [
       "<Figure size 432x288 with 1 Axes>"
      ]
     },
     "metadata": {
      "needs_background": "light"
     },
     "output_type": "display_data"
    }
   ],
   "source": [
    "number_of_bins = 100\n",
    "bin_cutoffs = np.linspace(np.percentile(y,0), np.percentile(y,99),number_of_bins)\n",
    "h = plt.hist(y, bins = bin_cutoffs, color='0.75')\n",
    "number_distributions_to_plot = 3\n",
    "dist_names = results['Distribution'].iloc[0:number_distributions_to_plot]\n",
    "parameters = []\n",
    "for dist_name in dist_names:\n",
    "    dist = getattr(scipy.stats, dist_name)\n",
    "    param = dist.fit(y)\n",
    "    parameters.append(param)\n",
    "    pdf_fitted = dist.pdf(x, *param[:-2], loc=param[-2], scale=param[-1])\n",
    "    scale_pdf = np.trapz (h[0], h[1][:-1]) / np.trapz (pdf_fitted, x)\n",
    "    pdf_fitted *= scale_pdf\n",
    "    plt.plot(pdf_fitted, label=dist_name)\n",
    "    plt.xlim(0,np.percentile(y,99))\n",
    "plt.legend()\n",
    "#plt.show()\n",
    "\n",
    "dist_parameters = pd.DataFrame()\n",
    "dist_parameters['Distribution'] = (\n",
    "        results['Distribution'].iloc[0:number_distributions_to_plot])\n",
    "dist_parameters['Distribution parameters'] = parameters\n",
    "print ('\\nDistribution parameters:')\n",
    "print ('------------------------')\n",
    "\n",
    "for index, row in dist_parameters.iterrows():\n",
    "    print ('\\nDistribution:', row[0])\n",
    "    print ('Parameters:', row[1] )"
   ]
  },
  {
   "cell_type": "code",
   "execution_count": 35,
   "metadata": {},
   "outputs": [
    {
     "data": {
      "image/png": "[encoded data removed]",
      "text/plain": [
       "<Figure size 576x360 with 1 Axes>"
      ]
     },
     "metadata": {
      "needs_background": "light"
     },
     "output_type": "display_data"
    },
    {
     "data": {
      "image/png": "[encoded data removed]",
      "text/plain": [
       "<Figure size 576x360 with 1 Axes>"
      ]
     },
     "metadata": {
      "needs_background": "light"
     },
     "output_type": "display_data"
    },
    {
     "data": {
      "image/png": "[encoded data removed]",
      "text/plain": [
       "<Figure size 576x360 with 1 Axes>"
      ]
     },
     "metadata": {
      "needs_background": "light"
     },
     "output_type": "display_data"
    }
   ],
   "source": [
    "## qq plots\n",
    "    \n",
    "data = y_std.copy()\n",
    "data.sort()\n",
    "for distribution in dist_names:\n",
    "    dist = getattr(scipy.stats, distribution)\n",
    "    param = dist.fit(y_std)\n",
    "    norm = dist.rvs(*param[0:-2],loc=param[-2], scale=param[-1],size = size)\n",
    "    norm.sort()\n",
    "    fig = plt.figure(figsize=(8,5)) \n",
    "    ax1 = fig.add_subplot(121) # Grid of 2x2, this is suplot 1\n",
    "    ax1.plot(norm,data,\"o\")\n",
    "    min_value = np.floor(min(min(norm),min(data)))\n",
    "    max_value = np.ceil(max(max(norm),max(data)))\n",
    "    ax1.plot([min_value,max_value],[min_value,max_value],'r--')\n",
    "    ax1.set_xlim(min_value,max_value)\n",
    "    ax1.set_xlabel('Theoretical quantiles')\n",
    "    ax1.set_ylabel('Observed quantiles')\n",
    "    title = 'qq plot for ' + distribution +' distribution'\n",
    "    ax1.set_title(title)\n",
    "    # Display plot    \n",
    "    plt.tight_layout(pad=4)\n",
    "    plt.show()"
   ]
  },
  {
   "cell_type": "markdown",
   "metadata": {},
   "source": [
    "## Answer and analysis: \n",
    "\n",
    "Based on the result from both goodness of fit test there are three possible options for the distribution: Pearson Type 3, Beta and inverse Gamma distribution. From the result of QQ plot, we see that Pearson Type 3 demonstrate the most fitting properties. \n",
    "\n",
    "\n",
    "=====================================================================================================================\n"
   ]
  },
  {
   "cell_type": "markdown",
   "metadata": {},
   "source": [
    "=====================================================================================================================\n",
    "# Question 5. Can we classify videos through sentiments? \n",
    "\n",
    "## - Question Description: \n",
    "\n",
    "Users' preference to watch some of the uploaded videos depends on how the title of video was worded. Uploaders want to enclose enough key words to for the search engine to capture. Some videos are highly sentimental that allures people to click on and watch. We want to see if we can classify the title of the videos by sentiments.\n",
    "\n",
    "## - Model:\n",
    "We use naive classification on the `compound` scores derived from the polarity scores based on the elements in the titles."
   ]
  },
  {
   "cell_type": "code",
   "execution_count": 36,
   "metadata": {},
   "outputs": [],
   "source": [
    "data=df\n",
    "sia = SIA()\n",
    "results = []\n",
    "\n",
    "for line in data['title'].values.copy():\n",
    "    pol_score = sia.polarity_scores(line)\n",
    "    pol_score['headline'] = line\n",
    "    results.append(pol_score)"
   ]
  },
  {
   "cell_type": "code",
   "execution_count": 37,
   "metadata": {},
   "outputs": [
    {
     "data": {
      "text/html": [
       "<div>\n",
       "<style scoped>\n",
       "    .dataframe tbody tr th:only-of-type {\n",
       "        vertical-align: middle;\n",
       "    }\n",
       "\n",
       "    .dataframe tbody tr th {\n",
       "        vertical-align: top;\n",
       "    }\n",
       "\n",
       "    .dataframe thead th {\n",
       "        text-align: right;\n",
       "    }\n",
       "</style>\n",
       "<table border=\"1\" class=\"dataframe\">\n",
       "  <thead>\n",
       "    <tr style=\"text-align: right;\">\n",
       "      <th></th>\n",
       "      <th>title</th>\n",
       "      <th>view</th>\n",
       "      <th>channel</th>\n",
       "      <th>uploadtime</th>\n",
       "      <th>length</th>\n",
       "      <th>link</th>\n",
       "      <th>subscriber</th>\n",
       "      <th>like</th>\n",
       "      <th>dislike</th>\n",
       "      <th>clean_text</th>\n",
       "      <th>neg</th>\n",
       "      <th>neu</th>\n",
       "      <th>pos</th>\n",
       "      <th>compound</th>\n",
       "    </tr>\n",
       "  </thead>\n",
       "  <tbody>\n",
       "    <tr>\n",
       "      <td>0</td>\n",
       "      <td>Unprecedented restrictions in Italy over coron...</td>\n",
       "      <td>22000</td>\n",
       "      <td>CNN</td>\n",
       "      <td>3</td>\n",
       "      <td>498</td>\n",
       "      <td>https://www.youtube.com/watch?v=v_vDjR5zBDk</td>\n",
       "      <td>8710000</td>\n",
       "      <td>735</td>\n",
       "      <td>124</td>\n",
       "      <td>unprecedented restriction italy coronavirus ou...</td>\n",
       "      <td>0.0</td>\n",
       "      <td>1.000</td>\n",
       "      <td>0.000</td>\n",
       "      <td>0.0000</td>\n",
       "    </tr>\n",
       "    <tr>\n",
       "      <td>1</td>\n",
       "      <td>New York reels with largest coronavirus outbre...</td>\n",
       "      <td>264000</td>\n",
       "      <td>ABC News</td>\n",
       "      <td>11</td>\n",
       "      <td>237</td>\n",
       "      <td>https://www.youtube.com/watch?v=7JedXOgOPC8</td>\n",
       "      <td>7860000</td>\n",
       "      <td>2082</td>\n",
       "      <td>223</td>\n",
       "      <td>new york reel largest coronavirus outbreak u wnt</td>\n",
       "      <td>0.0</td>\n",
       "      <td>1.000</td>\n",
       "      <td>0.000</td>\n",
       "      <td>0.0000</td>\n",
       "    </tr>\n",
       "    <tr>\n",
       "      <td>2</td>\n",
       "      <td>Trump urges calm at coronavirus task force bri...</td>\n",
       "      <td>442000</td>\n",
       "      <td>CBS News</td>\n",
       "      <td>10</td>\n",
       "      <td>351</td>\n",
       "      <td>https://www.youtube.com/watch?v=zSfbAP3emSE</td>\n",
       "      <td>2390000</td>\n",
       "      <td>2610</td>\n",
       "      <td>2208</td>\n",
       "      <td>trump urge calm coronavirus task force briefing</td>\n",
       "      <td>0.0</td>\n",
       "      <td>0.753</td>\n",
       "      <td>0.247</td>\n",
       "      <td>0.3182</td>\n",
       "    </tr>\n",
       "    <tr>\n",
       "      <td>3</td>\n",
       "      <td>Governor Cuomo Gives Updates On Coronavirus In...</td>\n",
       "      <td>98000</td>\n",
       "      <td>MSNBC</td>\n",
       "      <td>14</td>\n",
       "      <td>336</td>\n",
       "      <td>https://www.youtube.com/watch?v=06Q1CQd33zM</td>\n",
       "      <td>2420000</td>\n",
       "      <td>711</td>\n",
       "      <td>253</td>\n",
       "      <td>governor cuomo give update coronavirus new yor...</td>\n",
       "      <td>0.0</td>\n",
       "      <td>1.000</td>\n",
       "      <td>0.000</td>\n",
       "      <td>0.0000</td>\n",
       "    </tr>\n",
       "    <tr>\n",
       "      <td>4</td>\n",
       "      <td>Coronavirus: Cruise Ship Carrying People With ...</td>\n",
       "      <td>209000</td>\n",
       "      <td>NBC News</td>\n",
       "      <td>10</td>\n",
       "      <td>814</td>\n",
       "      <td>https://www.youtube.com/watch?v=sku3zWvLXnM</td>\n",
       "      <td>1960000</td>\n",
       "      <td>919</td>\n",
       "      <td>101</td>\n",
       "      <td>coronavirus cruise ship carrying people corona...</td>\n",
       "      <td>0.0</td>\n",
       "      <td>1.000</td>\n",
       "      <td>0.000</td>\n",
       "      <td>0.0000</td>\n",
       "    </tr>\n",
       "  </tbody>\n",
       "</table>\n",
       "</div>"
      ],
      "text/plain": [
       "                                               title    view   channel  \\\n",
       "0  Unprecedented restrictions in Italy over coron...   22000       CNN   \n",
       "1  New York reels with largest coronavirus outbre...  264000  ABC News   \n",
       "2  Trump urges calm at coronavirus task force bri...  442000  CBS News   \n",
       "3  Governor Cuomo Gives Updates On Coronavirus In...   98000     MSNBC   \n",
       "4  Coronavirus: Cruise Ship Carrying People With ...  209000  NBC News   \n",
       "\n",
       "   uploadtime  length                                         link  \\\n",
       "0           3     498  https://www.youtube.com/watch?v=v_vDjR5zBDk   \n",
       "1          11     237  https://www.youtube.com/watch?v=7JedXOgOPC8   \n",
       "2          10     351  https://www.youtube.com/watch?v=zSfbAP3emSE   \n",
       "3          14     336  https://www.youtube.com/watch?v=06Q1CQd33zM   \n",
       "4          10     814  https://www.youtube.com/watch?v=sku3zWvLXnM   \n",
       "\n",
       "   subscriber  like  dislike  \\\n",
       "0     8710000   735      124   \n",
       "1     7860000  2082      223   \n",
       "2     2390000  2610     2208   \n",
       "3     2420000   711      253   \n",
       "4     1960000   919      101   \n",
       "\n",
       "                                          clean_text  neg    neu    pos  \\\n",
       "0  unprecedented restriction italy coronavirus ou...  0.0  1.000  0.000   \n",
       "1   new york reel largest coronavirus outbreak u wnt  0.0  1.000  0.000   \n",
       "2    trump urge calm coronavirus task force briefing  0.0  0.753  0.247   \n",
       "3  governor cuomo give update coronavirus new yor...  0.0  1.000  0.000   \n",
       "4  coronavirus cruise ship carrying people corona...  0.0  1.000  0.000   \n",
       "\n",
       "   compound  \n",
       "0    0.0000  \n",
       "1    0.0000  \n",
       "2    0.3182  \n",
       "3    0.0000  \n",
       "4    0.0000  "
      ]
     },
     "execution_count": 37,
     "metadata": {},
     "output_type": "execute_result"
    }
   ],
   "source": [
    "data_polar = pd.DataFrame.from_records(results)\n",
    "data['neg'] = data_polar.neg\n",
    "data['neu']= data_polar.neu\n",
    "data['pos']= data_polar.pos\n",
    "data['compound']= data_polar['compound']\n",
    "data.head()"
   ]
  },
  {
   "cell_type": "markdown",
   "metadata": {},
   "source": [
    "### Calculating Polarity Scores\n",
    "\n",
    "New four columns from the sentiment scoring: `neu`, `neg`, `pos` and `compound` are generated. The first three represent the sentiment score percentage of each category in the video `title`, and the `compound` is a single sentiment score that ranges from -1 (Extremely Negative) to 1 (Extremely Positive).\n",
    "\n",
    "Since the virus is spreading in the west hemisphere and is covered more in the media, we might get more bad news in the search results. Adding the neutrality of mass media posts, it is rare to find title with obvious positive sentiments.  \n",
    "\n",
    "### Classification by Compound\n",
    " \n",
    "`Label`s are created based on the `compound`. We consider titles with a compound > 0.4 as positive (denoted as `1`) and < -0.5 as negative (denoted as `-1`), other situation will be assigned a `0` as neutural. The cutoff is determined by trying several numbers. If the threshold has a higher absloute value, we might get fewer false positives and false negatives, but the size of the results with true negatives and true positives will drop drastically."
   ]
  },
  {
   "cell_type": "code",
   "execution_count": 38,
   "metadata": {},
   "outputs": [
    {
     "data": {
      "text/html": [
       "<div>\n",
       "<style scoped>\n",
       "    .dataframe tbody tr th:only-of-type {\n",
       "        vertical-align: middle;\n",
       "    }\n",
       "\n",
       "    .dataframe tbody tr th {\n",
       "        vertical-align: top;\n",
       "    }\n",
       "\n",
       "    .dataframe thead th {\n",
       "        text-align: right;\n",
       "    }\n",
       "</style>\n",
       "<table border=\"1\" class=\"dataframe\">\n",
       "  <thead>\n",
       "    <tr style=\"text-align: right;\">\n",
       "      <th></th>\n",
       "      <th>title</th>\n",
       "      <th>compound</th>\n",
       "      <th>neg</th>\n",
       "      <th>neu</th>\n",
       "      <th>pos</th>\n",
       "      <th>compound</th>\n",
       "      <th>label</th>\n",
       "    </tr>\n",
       "  </thead>\n",
       "  <tbody>\n",
       "    <tr>\n",
       "      <td>0</td>\n",
       "      <td>Unprecedented restrictions in Italy over coron...</td>\n",
       "      <td>0.0000</td>\n",
       "      <td>0.0</td>\n",
       "      <td>1.000</td>\n",
       "      <td>0.000</td>\n",
       "      <td>0.0000</td>\n",
       "      <td>0</td>\n",
       "    </tr>\n",
       "    <tr>\n",
       "      <td>1</td>\n",
       "      <td>New York reels with largest coronavirus outbre...</td>\n",
       "      <td>0.0000</td>\n",
       "      <td>0.0</td>\n",
       "      <td>1.000</td>\n",
       "      <td>0.000</td>\n",
       "      <td>0.0000</td>\n",
       "      <td>0</td>\n",
       "    </tr>\n",
       "    <tr>\n",
       "      <td>2</td>\n",
       "      <td>Trump urges calm at coronavirus task force bri...</td>\n",
       "      <td>0.3182</td>\n",
       "      <td>0.0</td>\n",
       "      <td>0.753</td>\n",
       "      <td>0.247</td>\n",
       "      <td>0.3182</td>\n",
       "      <td>0</td>\n",
       "    </tr>\n",
       "    <tr>\n",
       "      <td>3</td>\n",
       "      <td>Governor Cuomo Gives Updates On Coronavirus In...</td>\n",
       "      <td>0.0000</td>\n",
       "      <td>0.0</td>\n",
       "      <td>1.000</td>\n",
       "      <td>0.000</td>\n",
       "      <td>0.0000</td>\n",
       "      <td>0</td>\n",
       "    </tr>\n",
       "    <tr>\n",
       "      <td>4</td>\n",
       "      <td>Coronavirus: Cruise Ship Carrying People With ...</td>\n",
       "      <td>0.0000</td>\n",
       "      <td>0.0</td>\n",
       "      <td>1.000</td>\n",
       "      <td>0.000</td>\n",
       "      <td>0.0000</td>\n",
       "      <td>0</td>\n",
       "    </tr>\n",
       "  </tbody>\n",
       "</table>\n",
       "</div>"
      ],
      "text/plain": [
       "                                               title  compound  neg    neu  \\\n",
       "0  Unprecedented restrictions in Italy over coron...    0.0000  0.0  1.000   \n",
       "1  New York reels with largest coronavirus outbre...    0.0000  0.0  1.000   \n",
       "2  Trump urges calm at coronavirus task force bri...    0.3182  0.0  0.753   \n",
       "3  Governor Cuomo Gives Updates On Coronavirus In...    0.0000  0.0  1.000   \n",
       "4  Coronavirus: Cruise Ship Carrying People With ...    0.0000  0.0  1.000   \n",
       "\n",
       "     pos  compound  label  \n",
       "0  0.000    0.0000      0  \n",
       "1  0.000    0.0000      0  \n",
       "2  0.247    0.3182      0  \n",
       "3  0.000    0.0000      0  \n",
       "4  0.000    0.0000      0  "
      ]
     },
     "execution_count": 38,
     "metadata": {},
     "output_type": "execute_result"
    }
   ],
   "source": [
    "data['label'] = 0\n",
    "data.loc[data['compound'] > 0.4, 'label'] = 1\n",
    "data.loc[data['compound'] < -0.5 , 'label'] = -1\n",
    "data[['title','compound','neg','neu','pos','compound','label']].head()"
   ]
  },
  {
   "cell_type": "markdown",
   "metadata": {},
   "source": [
    "### Comparing Sentiments and Likes\n",
    "Three ratios are generated:\n",
    "\n",
    "Likes to all emotion expressions, as `like_ratio1`;\\\n",
    "Likes to total views, as `like_ratio2`;\\\n",
    "Dislikes to total views, as `like_ratio3`;"
   ]
  },
  {
   "cell_type": "code",
   "execution_count": 39,
   "metadata": {},
   "outputs": [],
   "source": [
    "data['like_ratio1'] = data['like']/(data['like']+data['dislike'])\n",
    "data['like_ratio2'] = data['like']/(data['view'])\n",
    "data['like_ratio3'] = data['dislike']/(data['view'])"
   ]
  },
  {
   "cell_type": "markdown",
   "metadata": {},
   "source": [
    "Lots of the compounds has 0 value, so we look at other compounds different from 0 and the ratios"
   ]
  },
  {
   "cell_type": "code",
   "execution_count": 40,
   "metadata": {},
   "outputs": [
    {
     "data": {
      "image/png": "[encoded data removed]",
      "text/plain": [
       "<Figure size 432x288 with 1 Axes>"
      ]
     },
     "metadata": {
      "needs_background": "light"
     },
     "output_type": "display_data"
    }
   ],
   "source": [
    "cl1 = sns.regplot(x=data['compound'][data['compound']!=0], y=data['like_ratio1'][data['compound']!=0])\n",
    "cl1.set_title('Compound vs like/all emotions')\n",
    "cl1.set_ylabel('like/all emotions')\n",
    "plt.show(cl1)"
   ]
  },
  {
   "cell_type": "code",
   "execution_count": 41,
   "metadata": {},
   "outputs": [
    {
     "data": {
      "image/png": "[encoded data removed]",
      "text/plain": [
       "<Figure size 432x288 with 1 Axes>"
      ]
     },
     "metadata": {
      "needs_background": "light"
     },
     "output_type": "display_data"
    }
   ],
   "source": [
    "cl2 = sns.regplot(x=data['compound'][data['compound']!=0], y=data['like_ratio2'][data['compound']!=0])\n",
    "cl2.set_title('Compound vs like/all views')\n",
    "cl2.set_ylabel('like/all views')\n",
    "plt.show(cl2)"
   ]
  },
  {
   "cell_type": "code",
   "execution_count": 42,
   "metadata": {},
   "outputs": [
    {
     "data": {
      "image/png": "[encoded data removed]",
      "text/plain": [
       "<Figure size 432x288 with 1 Axes>"
      ]
     },
     "metadata": {
      "needs_background": "light"
     },
     "output_type": "display_data"
    }
   ],
   "source": [
    "cl3 = sns.regplot(x=data['compound'][data['compound']!=0], y=data['like_ratio3'][data['compound']!=0])\n",
    "cl3.set_title('Compound vs dislike/all views')\n",
    "cl3.set_ylabel('Dislike/all views')\n",
    "plt.show(cl3)"
   ]
  },
  {
   "cell_type": "markdown",
   "metadata": {},
   "source": [
    "Likes and dislikes might be uncorrelated with the compound.\n",
    "\n",
    "### Verification and Doubts\n",
    "\n",
    "We then look into some titles of videos with positive or negative sentiments."
   ]
  },
  {
   "cell_type": "code",
   "execution_count": 43,
   "metadata": {},
   "outputs": [
    {
     "name": "stdout",
     "output_type": "stream",
     "text": [
      "\"Positive\" headlines:\n",
      "\n",
      "['Watch live: D.C. mayor updates on coronavirus after first positive case', 'Is Italy’s Massive Coronavirus Quarantine Sign Of Things To Come? | AM Joy | MSNBC', '21 people aboard Grand Princess cruise ship test positive for coronavirus: Pence | ABC News', 'ABC News Prime: Coronavirus global spread, Grand Princess cruise ship, Market meltdown', 'Trump Praises Coronavirus Response As Cases Rack Up And Markets Spiral | The 11th Hour | MSNBC']\n",
      "\n",
      "Negative headlines:\n",
      "\n",
      "['Coronavirus death toll rises in Italy to 366 as quarter of population on lockdown | ITV News', 'Coronavirus Threat: To The Economy, And The Presidency | The Day That Was | MSNBC', 'First UK Coronavirus death in Berkshire - BBC NEWS', \"Italy's coronavirus outbreak sparks 'a lot of panic\", 'At least 12 dead, 188 infected in US as coronavirus continues to spread | Nightline']\n"
     ]
    }
   ],
   "source": [
    "print(\"\\\"Positive\\\" headlines:\\n\")\n",
    "print(list(data[data['label'] == 1].title)[:5])\n",
    "\n",
    "print(\"\\nNegative headlines:\\n\")\n",
    "print(list(data[data['label'] == -1].title)[:5])"
   ]
  },
  {
   "cell_type": "markdown",
   "metadata": {},
   "source": [
    "Negative headlines approximately had the right sentimental classification, but the positive headlines are not. “Positive” diagnosis of COVID-19 was count as positive sentiment and caused biases. It is possible to check how many titles are affected.\n"
   ]
  },
  {
   "cell_type": "code",
   "execution_count": 44,
   "metadata": {},
   "outputs": [
    {
     "data": {
      "text/plain": [
       "array(['Watch live: D.C. mayor updates on coronavirus after first positive case',\n",
       "       '21 people aboard Grand Princess cruise ship test positive for coronavirus: Pence | ABC News',\n",
       "       'Coronavirus: Half of California cruise passengers test positive | Nine News Australia',\n",
       "       'He tested positive for coronavirus.  Hear how he feels now',\n",
       "       \"Coronavirus: Iran's deputy health minister tests positive as outbreak worsens - BBC News\"],\n",
       "      dtype=object)"
      ]
     },
     "execution_count": 44,
     "metadata": {},
     "output_type": "execute_result"
    }
   ],
   "source": [
    "data[data['title'].str.contains('positive', case=False)]['title'].values"
   ]
  },
  {
   "cell_type": "markdown",
   "metadata": {},
   "source": [
    "All observations subsetted matched the situation described above. Then we filter out these observations to see titles of somewhat \"positive\" sentiments."
   ]
  },
  {
   "cell_type": "code",
   "execution_count": 45,
   "metadata": {},
   "outputs": [
    {
     "data": {
      "text/plain": [
       "array(['Is Italy’s Massive Coronavirus Quarantine Sign Of Things To Come? | AM Joy | MSNBC',\n",
       "       'ABC News Prime: Coronavirus global spread, Grand Princess cruise ship, Market meltdown',\n",
       "       'Trump Praises Coronavirus Response As Cases Rack Up And Markets Spiral | The 11th Hour | MSNBC',\n",
       "       'Coronavirus outbreak claims lives of more than a dozen Life Care Center residents',\n",
       "       \"Coronavirus: Countries need to 'help each other' as deaths increase - BBC Newsnight\",\n",
       "       'Coronavirus: doctors and nurses in Iran filmed dancing in bid to boost morale',\n",
       "       'Coronavirus whistleblower doctor is online hero in China',\n",
       "       'Coronavirus: Worst-hit countries boost containment efforts - BBC News',\n",
       "       'What is the coronavirus? Everything you need to know about symptoms, how to stay safe and what next',\n",
       "       'China को मिल गयी Coronavirus की Medicine ?  | Tez Special Report',\n",
       "       'Coronavirus prevention: how to make your own hand sanitizer',\n",
       "       'NOVEL CORONAVIRUS(2019NCoV) Outbreak|Be Informed|Arcymae Vlogs',\n",
       "       'Lockdowns / Quarantines Coming!  Make Sure You’re Prepared: Coronavirus / COVID-19 Readiness'],\n",
       "      dtype=object)"
      ]
     },
     "execution_count": 45,
     "metadata": {},
     "output_type": "execute_result"
    }
   ],
   "source": [
    "data[data['title'].str.contains('positive', case=False) == False][data['label'] == 1]['title'].values"
   ]
  },
  {
   "cell_type": "markdown",
   "metadata": {},
   "source": [
    "## Analysis: \n",
    "\n",
    "We want to ignore some data points with other language that our team does not understand (such as Spanish).\\\n",
    "Good news do not necessarily have good sentiments revealed in the title. The titles are mostly providing information hence they are usually neutural.\\\n",
    "Those titles are short and concise for viewers to know most of the information, so they are in fact neutral most of the time. For the natural language processing, we want more significant and informative tokens or keywords. Titles may not be a good object for sentimental analysis.\\\n",
    "The default sentiment tools in the `nltk` package might not be helpful here for video titles. The dictionary needs to be trained in the context of outbreak of coronavirus. Also, we may want to look at comments in each video, which are more suitable for sentimental tools.\n",
    "\n",
    "=====================================================================================================================\n"
   ]
  },
  {
   "cell_type": "markdown",
   "metadata": {},
   "source": [
    "=====================================================================================================================\n",
    "# Question 6. Can we separate all videos into different types? \n",
    "\n",
    "## - Question Description: \n",
    "\n",
    "Many kinds of video posts will be provided through YouTube videos. For example, news can be separated in different types, suchj as vlogs, politics, economics, public health, etc. We wonder if it is possible to separate type of videos only through the elements in the titles. \n",
    "\n",
    "## - Model\n",
    "\n",
    "There is no actual labels for the original data. Meanwhile, youtube did not set up sub-areas (like a sub-folder) to tag and classify those videos. We have to use unsupervised learning algorithms. Here we ultilize the k-means clustering trying to cluster all those titles into different categories. \n",
    "\n",
    "### Training\n",
    "\n",
    "Before performing clustering, we vectorize and process the cleaned tokens into term frequency-inverse document frequency (tf-idf), a creteria of importance of a word in the text.\n",
    "\n",
    "The training set we use is the search results scraped on March 10."
   ]
  },
  {
   "cell_type": "code",
   "execution_count": 46,
   "metadata": {},
   "outputs": [],
   "source": [
    "vectorizer = TfidfVectorizer(stop_words='english')\n",
    "X = vectorizer.fit_transform(df['clean_text'].copy().values)"
   ]
  },
  {
   "cell_type": "markdown",
   "metadata": {},
   "source": [
    "Here we preload the search results scraped on March 14, plus uploaded within 24 hours (exclusive) to verify the results of clustering. These videos titles are clearly not included in the training set."
   ]
  },
  {
   "cell_type": "code",
   "execution_count": 47,
   "metadata": {},
   "outputs": [],
   "source": [
    "ver = pd.read_csv('../data/video_clean2.csv', index_col = 0)\n",
    "ver = ver[ver['uploadtime']<24].copy()"
   ]
  },
  {
   "cell_type": "markdown",
   "metadata": {},
   "source": [
    "It is difficult to determine the number of k. Here we use 3 as an example."
   ]
  },
  {
   "cell_type": "code",
   "execution_count": 48,
   "metadata": {},
   "outputs": [
    {
     "data": {
      "text/plain": [
       "KMeans(algorithm='auto', copy_x=True, init='k-means++', max_iter=100,\n",
       "       n_clusters=3, n_init=1, n_jobs=None, precompute_distances='auto',\n",
       "       random_state=None, tol=0.0001, verbose=0)"
      ]
     },
     "execution_count": 48,
     "metadata": {},
     "output_type": "execute_result"
    }
   ],
   "source": [
    "k = 3\n",
    "model = KMeans(n_clusters=k, init='k-means++', max_iter=100, n_init=1)\n",
    "model.fit(X)"
   ]
  },
  {
   "cell_type": "code",
   "execution_count": 52,
   "metadata": {},
   "outputs": [],
   "source": [
    "order_centroids = model.cluster_centers_.argsort()[:, ::-1]\n",
    "feature_name = vectorizer.get_feature_names()"
   ]
  },
  {
   "cell_type": "markdown",
   "metadata": {},
   "source": [
    "### Guessing Cluster Characteristics\n",
    "Here we check the first eight main tokens (feature) in each cluster to see(guess) what the cluster is about.\n"
   ]
  },
  {
   "cell_type": "code",
   "execution_count": 53,
   "metadata": {},
   "outputs": [
    {
     "name": "stdout",
     "output_type": "stream",
     "text": [
      "Cluster 0\n",
      "case\n",
      "trump\n",
      "coronavirus\n",
      "msnbc\n",
      "response\n",
      "death\n",
      "news\n",
      "confirmed\n",
      "Cluster 1\n",
      "coronavirus\n",
      "news\n",
      "china\n",
      "covid\n",
      "el\n",
      "spread\n",
      "wuhan\n",
      "bbc\n",
      "Cluster 2\n",
      "outbreak\n",
      "coronavirus\n",
      "china\n",
      "italy\n",
      "contain\n",
      "news\n",
      "new\n",
      "covid\n"
     ]
    }
   ],
   "source": [
    "for i in range(k):\n",
    "    print('Cluster', i),\n",
    "    for j in order_centroids[i, :8]:\n",
    "        print('%s' % feature_name[j])"
   ]
  },
  {
   "cell_type": "markdown",
   "metadata": {},
   "source": [
    "We tried to guess what might be included in the cluster. \n",
    "For example, 'Trump' in cluster 0. It is possible that news about president's speech or somebody will be included in this cluster.\\\n",
    "In cluster 1, we saw \"COVID\" and \"China\". We guess China related news will be included in this cluster.\\\n",
    "In cluster 2, we saw \"Italy\".\n",
    "\n",
    "However, characteristics of three clusters had strong overlapping and was not clear. For example, \"Coronavirus\" is observed in all clusters. So as \"China\" and \"News\". Given the homogeneous property of video titles, it is possible the classification model may not work well.\n",
    "\n",
    "### Verification"
   ]
  },
  {
   "cell_type": "code",
   "execution_count": 54,
   "metadata": {},
   "outputs": [
    {
     "data": {
      "text/html": [
       "<div>\n",
       "<style scoped>\n",
       "    .dataframe tbody tr th:only-of-type {\n",
       "        vertical-align: middle;\n",
       "    }\n",
       "\n",
       "    .dataframe tbody tr th {\n",
       "        vertical-align: top;\n",
       "    }\n",
       "\n",
       "    .dataframe thead th {\n",
       "        text-align: right;\n",
       "    }\n",
       "</style>\n",
       "<table border=\"1\" class=\"dataframe\">\n",
       "  <thead>\n",
       "    <tr style=\"text-align: right;\">\n",
       "      <th></th>\n",
       "      <th>title</th>\n",
       "      <th>pred</th>\n",
       "      <th>uploadtime</th>\n",
       "    </tr>\n",
       "  </thead>\n",
       "  <tbody>\n",
       "    <tr>\n",
       "      <td>0</td>\n",
       "      <td>Europe becomes new coronavirus epicenter</td>\n",
       "      <td>1</td>\n",
       "      <td>8</td>\n",
       "    </tr>\n",
       "    <tr>\n",
       "      <td>1</td>\n",
       "      <td>WATCH LIVE: Trump gives coronavirus update</td>\n",
       "      <td>0</td>\n",
       "      <td>1</td>\n",
       "    </tr>\n",
       "    <tr>\n",
       "      <td>2</td>\n",
       "      <td>Infection Rate Charts Forecast Steep Rise In US Coronavirus Cases | Rachel Maddow | MSNBC</td>\n",
       "      <td>0</td>\n",
       "      <td>15</td>\n",
       "    </tr>\n",
       "    <tr>\n",
       "      <td>3</td>\n",
       "      <td>Iran is building a massive grave for coronavirus victims</td>\n",
       "      <td>1</td>\n",
       "      <td>22</td>\n",
       "    </tr>\n",
       "    <tr>\n",
       "      <td>4</td>\n",
       "      <td>Trump declares national emergency to combat coronavirus</td>\n",
       "      <td>0</td>\n",
       "      <td>22</td>\n",
       "    </tr>\n",
       "    <tr>\n",
       "      <td>5</td>\n",
       "      <td>Miami mayor who tested positive for coronavirus speaks on quarantine experience</td>\n",
       "      <td>1</td>\n",
       "      <td>18</td>\n",
       "    </tr>\n",
       "    <tr>\n",
       "      <td>6</td>\n",
       "      <td>Coronavirus: Europe at the epicentre of the pandemic - BBC News</td>\n",
       "      <td>1</td>\n",
       "      <td>22</td>\n",
       "    </tr>\n",
       "    <tr>\n",
       "      <td>10</td>\n",
       "      <td>What happens if the homeless population gets infected with coronavirus?</td>\n",
       "      <td>1</td>\n",
       "      <td>19</td>\n",
       "    </tr>\n",
       "    <tr>\n",
       "      <td>28</td>\n",
       "      <td>Coronavirus outbreak: B.C. health officials confirm 11 new cases of COVID-19</td>\n",
       "      <td>2</td>\n",
       "      <td>22</td>\n",
       "    </tr>\n",
       "    <tr>\n",
       "      <td>31</td>\n",
       "      <td>Coronavirus: What Powers The Government Can Use To Stop The Spread | NBC Nightly News</td>\n",
       "      <td>1</td>\n",
       "      <td>21</td>\n",
       "    </tr>\n",
       "    <tr>\n",
       "      <td>35</td>\n",
       "      <td>Trump says he will \"most likely\" get tested for coronavirus</td>\n",
       "      <td>0</td>\n",
       "      <td>23</td>\n",
       "    </tr>\n",
       "    <tr>\n",
       "      <td>54</td>\n",
       "      <td>Trump declares 'national emergency' for coronavirus</td>\n",
       "      <td>0</td>\n",
       "      <td>22</td>\n",
       "    </tr>\n",
       "    <tr>\n",
       "      <td>66</td>\n",
       "      <td>Coronavirus special: Are we doing enough?</td>\n",
       "      <td>1</td>\n",
       "      <td>23</td>\n",
       "    </tr>\n",
       "    <tr>\n",
       "      <td>82</td>\n",
       "      <td>House passes sweeping coronavirus relief bill</td>\n",
       "      <td>1</td>\n",
       "      <td>8</td>\n",
       "    </tr>\n",
       "    <tr>\n",
       "      <td>93</td>\n",
       "      <td>Hannity: Major businesses working with Trump on coronavirus</td>\n",
       "      <td>0</td>\n",
       "      <td>19</td>\n",
       "    </tr>\n",
       "    <tr>\n",
       "      <td>95</td>\n",
       "      <td>When you think you have Coronavirus</td>\n",
       "      <td>1</td>\n",
       "      <td>20</td>\n",
       "    </tr>\n",
       "    <tr>\n",
       "      <td>100</td>\n",
       "      <td>Effects of Coronavirus Panic Reach Far and Wide</td>\n",
       "      <td>1</td>\n",
       "      <td>21</td>\n",
       "    </tr>\n",
       "    <tr>\n",
       "      <td>109</td>\n",
       "      <td>President Trump not taking responsibility for coronavirus testing issues</td>\n",
       "      <td>0</td>\n",
       "      <td>21</td>\n",
       "    </tr>\n",
       "    <tr>\n",
       "      <td>111</td>\n",
       "      <td>Trump's coronavirus news conference, in 3 minutes</td>\n",
       "      <td>0</td>\n",
       "      <td>23</td>\n",
       "    </tr>\n",
       "    <tr>\n",
       "      <td>137</td>\n",
       "      <td>Top 5 Celebrities With Corona Virus | Tom Hanks, Donovn Mitchell &amp; more.</td>\n",
       "      <td>1</td>\n",
       "      <td>22</td>\n",
       "    </tr>\n",
       "    <tr>\n",
       "      <td>147</td>\n",
       "      <td>Coronavirus controversy: Chinese official suggests US is responsible</td>\n",
       "      <td>1</td>\n",
       "      <td>18</td>\n",
       "    </tr>\n",
       "    <tr>\n",
       "      <td>210</td>\n",
       "      <td>Trump, Dems Reach Coronavirus Relief Deal As National Emergency Is Declared | The 11th Hour | MSNBC</td>\n",
       "      <td>0</td>\n",
       "      <td>16</td>\n",
       "    </tr>\n",
       "    <tr>\n",
       "      <td>221</td>\n",
       "      <td>Trump Breaks Coronavirus Rules At His Coronavirus Emergency Announcement | MSNBC</td>\n",
       "      <td>0</td>\n",
       "      <td>20</td>\n",
       "    </tr>\n",
       "    <tr>\n",
       "      <td>359</td>\n",
       "      <td>How Trump's Mistakes Made Coronavirus Worse | All In | MSNBC</td>\n",
       "      <td>0</td>\n",
       "      <td>19</td>\n",
       "    </tr>\n",
       "  </tbody>\n",
       "</table>\n",
       "</div>"
      ],
      "text/plain": [
       "                                                                                                   title  \\\n",
       "0                                                               Europe becomes new coronavirus epicenter   \n",
       "1                                                             WATCH LIVE: Trump gives coronavirus update   \n",
       "2              Infection Rate Charts Forecast Steep Rise In US Coronavirus Cases | Rachel Maddow | MSNBC   \n",
       "3                                               Iran is building a massive grave for coronavirus victims   \n",
       "4                                                Trump declares national emergency to combat coronavirus   \n",
       "5                        Miami mayor who tested positive for coronavirus speaks on quarantine experience   \n",
       "6                                        Coronavirus: Europe at the epicentre of the pandemic - BBC News   \n",
       "10                               What happens if the homeless population gets infected with coronavirus?   \n",
       "28                          Coronavirus outbreak: B.C. health officials confirm 11 new cases of COVID-19   \n",
       "31                 Coronavirus: What Powers The Government Can Use To Stop The Spread | NBC Nightly News   \n",
       "35                                           Trump says he will \"most likely\" get tested for coronavirus   \n",
       "54                                                   Trump declares 'national emergency' for coronavirus   \n",
       "66                                                             Coronavirus special: Are we doing enough?   \n",
       "82                                                         House passes sweeping coronavirus relief bill   \n",
       "93                                           Hannity: Major businesses working with Trump on coronavirus   \n",
       "95                                                                   When you think you have Coronavirus   \n",
       "100                                                      Effects of Coronavirus Panic Reach Far and Wide   \n",
       "109                             President Trump not taking responsibility for coronavirus testing issues   \n",
       "111                                                    Trump's coronavirus news conference, in 3 minutes   \n",
       "137                             Top 5 Celebrities With Corona Virus | Tom Hanks, Donovn Mitchell & more.   \n",
       "147                                 Coronavirus controversy: Chinese official suggests US is responsible   \n",
       "210  Trump, Dems Reach Coronavirus Relief Deal As National Emergency Is Declared | The 11th Hour | MSNBC   \n",
       "221                     Trump Breaks Coronavirus Rules At His Coronavirus Emergency Announcement | MSNBC   \n",
       "359                                         How Trump's Mistakes Made Coronavirus Worse | All In | MSNBC   \n",
       "\n",
       "     pred  uploadtime  \n",
       "0       1           8  \n",
       "1       0           1  \n",
       "2       0          15  \n",
       "3       1          22  \n",
       "4       0          22  \n",
       "5       1          18  \n",
       "6       1          22  \n",
       "10      1          19  \n",
       "28      2          22  \n",
       "31      1          21  \n",
       "35      0          23  \n",
       "54      0          22  \n",
       "66      1          23  \n",
       "82      1           8  \n",
       "93      0          19  \n",
       "95      1          20  \n",
       "100     1          21  \n",
       "109     0          21  \n",
       "111     0          23  \n",
       "137     1          22  \n",
       "147     1          18  \n",
       "210     0          16  \n",
       "221     0          20  \n",
       "359     0          19  "
      ]
     },
     "execution_count": 54,
     "metadata": {},
     "output_type": "execute_result"
    }
   ],
   "source": [
    "pd.options.display.max_colwidth = 100\n",
    "YY = vectorizer.transform(ver['clean_text'].copy().values)\n",
    "predicted = model.predict(YY)\n",
    "ver['pred'] = predicted\n",
    "ver[['title','pred','uploadtime']]"
   ]
  },
  {
   "cell_type": "markdown",
   "metadata": {},
   "source": [
    "### Results\n",
    "\n",
    "After running prediction for several times, we noticed the results of the prediction model are fragile.\\\n",
    "For video titles including \"Trump\" or some people's names were in one cluster, but sometimes they were predicted as other clusters that exclude \"Trump\". This cluster happened but not always catch this characteristics. \n",
    "\n",
    "The result is not ideal. Also, the result is unbalanced since one cluster had most of the titles, but the other two had only a few of the titles.\n",
    "\n",
    "Below we calculate the Silhouette Score to see if the clusters are strongly overlapped."
   ]
  },
  {
   "cell_type": "code",
   "execution_count": 55,
   "metadata": {},
   "outputs": [
    {
     "data": {
      "text/plain": [
       "0.0231"
      ]
     },
     "execution_count": 55,
     "metadata": {},
     "output_type": "execute_result"
    }
   ],
   "source": [
    "round(silhouette_score(YY, labels=model.predict(YY)),4)"
   ]
  },
  {
   "cell_type": "markdown",
   "metadata": {},
   "source": [
    "## Analysis: \n",
    "\n",
    "It is hard to perform unsupervised k-means clustering on the titles of the videos because the features of the titles are highly overlapped. This is seen from the classification results and the near-0 silhouette score. Also, the verification set is imbalanced because many of the titles did include the word \"Trump\" which is related to some announcement or decisions made by the president. \n",
    "\n",
    "Also, video titles are different from people's comments or a section of passage from texts. The number of words is few in those titles and the contents are highly brief. This also made the classification difficult.\n",
    "\n",
    "If we really want to perform such classification, we can:\n",
    "* Tune the parameters using other attributes or methods\n",
    "* Include more attibutes such as descriptions or comments\n",
    "* Use alternative classification models\n",
    " \n",
    "\n",
    "\n",
    "=====================================================================================================================\n"
   ]
  }
 ],
 "metadata": {
  "kernelspec": {
   "display_name": "Python 3",
   "language": "python",
   "name": "python3"
  },
  "language_info": {
   "codemirror_mode": {
    "name": "ipython",
    "version": 3
   },
   "file_extension": ".py",
   "mimetype": "text/x-python",
   "name": "python",
   "nbconvert_exporter": "python",
   "pygments_lexer": "ipython3",
   "version": "3.7.4"
  }
 },
 "nbformat": 4,
 "nbformat_minor": 2
}
